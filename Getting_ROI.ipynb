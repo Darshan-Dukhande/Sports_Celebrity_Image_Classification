{
 "cells": [
  {
   "cell_type": "markdown",
   "id": "e5f2c38a-702f-4013-999f-534526ac30c1",
   "metadata": {},
   "source": [
    "# To get the region of interest "
   ]
  },
  {
   "cell_type": "markdown",
   "id": "9c5b28be-969a-4e8d-9eab-c038ffe00fb9",
   "metadata": {},
   "source": [
    "When we look at any image, most of the time we identify a person using a face. An image might contain multiple faces, also the face can be obstructed and not clear. The first step in our pre-processing pipeline is to detect faces from an image. Once face is detected, we will detect eyes, if two eyes are detected then only we keep that image otherwise discard it"
   ]
  },
  {
   "cell_type": "markdown",
   "id": "742d1459-b34e-44dc-91aa-9abf1ac7fa0d",
   "metadata": {},
   "source": [
    "Now how do you detect face and eyes?"
   ]
  },
  {
   "cell_type": "code",
   "execution_count": 4,
   "id": "77289ac9-5ad0-4243-be38-37d64d5e58b6",
   "metadata": {},
   "outputs": [],
   "source": [
    "import numpy as np\n",
    "import cv2\n",
    "import matplotlib\n",
    "from matplotlib import pyplot as plt"
   ]
  },
  {
   "cell_type": "code",
   "execution_count": 5,
   "id": "d4fd95e5-e7fd-4f93-8004-9e9de7f8b957",
   "metadata": {},
   "outputs": [],
   "source": [
    "face_cascade = cv2.CascadeClassifier('./opencv/haarcascades/haarcascade_frontalface_default.xml')\n",
    "eye_cascade = cv2.CascadeClassifier('./opencv/haarcascades/haarcascade_eye.xml')"
   ]
  },
  {
   "cell_type": "code",
   "execution_count": 6,
   "id": "3b126d68-ba3d-4538-8edf-3af132e99365",
   "metadata": {},
   "outputs": [],
   "source": [
    "def get_cropped_image_if_2_eyes(image_path):\n",
    "    img = cv2.imread(image_path)\n",
    "    gray = cv2.cvtColor(img, cv2.COLOR_BGR2GRAY)\n",
    "    faces = face_cascade.detectMultiScale(gray, 1.3, 5)\n",
    "    for (x,y,w,h) in faces:\n",
    "        roi_gray = gray[y:y+h, x:x+w]\n",
    "        roi_color = img[y:y+h, x:x+w]\n",
    "        eyes = eye_cascade.detectMultiScale(roi_gray)\n",
    "        if len(eyes) >= 2:\n",
    "            return roi_color"
   ]
  },
  {
   "cell_type": "markdown",
   "id": "a0bec02c-3c27-45f3-ba06-d730e8b6254c",
   "metadata": {},
   "source": [
    "It detects faces in an image and, for each detected face, checks if at least 2 eyes are present. If so, it returns the cropped face region from the image."
   ]
  },
  {
   "cell_type": "code",
   "execution_count": 8,
   "id": "dcec7566-e635-4f0d-b1b9-12e57ee0e25b",
   "metadata": {},
   "outputs": [],
   "source": [
    "path_to_data = \"./images_dataset/\"\n",
    "path_to_cr_data = \"./cropped/\""
   ]
  },
  {
   "cell_type": "code",
   "execution_count": 9,
   "id": "dfb6fada-9526-4a08-8a7d-d63344bf5140",
   "metadata": {},
   "outputs": [],
   "source": [
    "import os\n",
    "img_dirs = []\n",
    "for entry in os.scandir(path_to_data):\n",
    "    if entry.is_dir():\n",
    "        img_dirs.append(entry.path)"
   ]
  },
  {
   "cell_type": "markdown",
   "id": "b7060645-888b-4b19-84fa-66337ddf46c3",
   "metadata": {},
   "source": [
    "It scans the directory path_to_data and adds the paths of all subdirectories to the list img_dirs"
   ]
  },
  {
   "cell_type": "code",
   "execution_count": 11,
   "id": "362f3eac-4852-46be-af6c-1ddd530e2d7f",
   "metadata": {},
   "outputs": [
    {
     "data": {
      "text/plain": [
       "['./images_dataset/lionel_messi',\n",
       " './images_dataset/maria_sharapova',\n",
       " './images_dataset/roger_federer',\n",
       " './images_dataset/serena_williams',\n",
       " './images_dataset/virat_kohli']"
      ]
     },
     "execution_count": 11,
     "metadata": {},
     "output_type": "execute_result"
    }
   ],
   "source": [
    "img_dirs"
   ]
  },
  {
   "cell_type": "code",
   "execution_count": 12,
   "id": "8f9bc3fb-a2a4-4a5d-b9b2-971f17b29582",
   "metadata": {},
   "outputs": [],
   "source": [
    "import shutil\n",
    "if os.path.exists(path_to_cr_data):\n",
    "     shutil.rmtree(path_to_cr_data)\n",
    "os.mkdir(path_to_cr_data)"
   ]
  },
  {
   "cell_type": "markdown",
   "id": "0a0673e3-51f6-4adc-90ce-6fe70a2a65ac",
   "metadata": {},
   "source": [
    "It deletes the folder at path_to_cr_data if it exists, then creates a new empty folder with the same name."
   ]
  },
  {
   "cell_type": "code",
   "execution_count": 14,
   "id": "1d3296ea-eb0c-496c-94ce-279d2784a139",
   "metadata": {},
   "outputs": [
    {
     "name": "stdout",
     "output_type": "stream",
     "text": [
      "lionel_messi\n",
      "Generating cropped images in folder:  ./cropped/lionel_messi\n",
      "maria_sharapova\n",
      "Generating cropped images in folder:  ./cropped/maria_sharapova\n",
      "roger_federer\n",
      "Generating cropped images in folder:  ./cropped/roger_federer\n",
      "serena_williams\n",
      "Generating cropped images in folder:  ./cropped/serena_williams\n",
      "virat_kohli\n",
      "Generating cropped images in folder:  ./cropped/virat_kohli\n"
     ]
    }
   ],
   "source": [
    "cropped_image_dirs = []\n",
    "celebrity_file_names_dict = {}\n",
    "\n",
    "for img_dir in img_dirs:\n",
    "    count = 1\n",
    "    celebrity_name = img_dir.split('/')[-1]\n",
    "    print(celebrity_name)\n",
    "    \n",
    "    celebrity_file_names_dict[celebrity_name] = []\n",
    "    \n",
    "    for entry in os.scandir(img_dir):\n",
    "        roi_color = get_cropped_image_if_2_eyes(entry.path)\n",
    "        if roi_color is not None:\n",
    "            cropped_folder = path_to_cr_data + celebrity_name\n",
    "            if not os.path.exists(cropped_folder):\n",
    "                os.makedirs(cropped_folder)\n",
    "                cropped_image_dirs.append(cropped_folder)\n",
    "                print(\"Generating cropped images in folder: \",cropped_folder)\n",
    "                \n",
    "            cropped_file_name = celebrity_name + str(count) + \".png\"\n",
    "            cropped_file_path = cropped_folder + \"/\" + cropped_file_name \n",
    "            \n",
    "            cv2.imwrite(cropped_file_path, roi_color)\n",
    "            celebrity_file_names_dict[celebrity_name].append(cropped_file_path)\n",
    "            count += 1  "
   ]
  },
  {
   "cell_type": "markdown",
   "id": "98b79079-5ec1-49b2-b40e-3d2d5caa1ebb",
   "metadata": {},
   "source": [
    "It loops through image directories of celebrities, detects faces with at least 2 eyes, saves the cropped face images into a new folder for each celebrity, and keeps track of the file paths in a dictionary."
   ]
  },
  {
   "cell_type": "markdown",
   "id": "5f5760e3-ede6-4e5b-be17-0eb9549c7026",
   "metadata": {},
   "source": [
    "Manually examine cropped folder and delete any unwanted images which will help in improving model accuracy"
   ]
  }
 ],
 "metadata": {
  "kernelspec": {
   "display_name": "Python [conda env:base] *",
   "language": "python",
   "name": "conda-base-py"
  },
  "language_info": {
   "codemirror_mode": {
    "name": "ipython",
    "version": 3
   },
   "file_extension": ".py",
   "mimetype": "text/x-python",
   "name": "python",
   "nbconvert_exporter": "python",
   "pygments_lexer": "ipython3",
   "version": "3.12.7"
  }
 },
 "nbformat": 4,
 "nbformat_minor": 5
}
